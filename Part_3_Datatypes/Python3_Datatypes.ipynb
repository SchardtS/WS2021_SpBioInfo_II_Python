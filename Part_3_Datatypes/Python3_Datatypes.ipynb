{
 "cells": [
  {
   "cell_type": "markdown",
   "metadata": {},
   "source": [
    "<p style='text-align: center'><a href=https://www.biozentrum.uni-wuerzburg.de/cctb/research/supramolecular-and-cellular-simulations/>Supramolecular and Cellular Simulations</a> (Prof. Fischer)<br>Center for Computational and Theoretical Biology - CCTB<br>Faculty of Biology, University of Würzburg</p>\n",
    "\n",
    "<p style='text-align: center'><br><br>We are looking forward to your comments and suggestions. Please send them to <a href=sabine.fischer@uni.wuerzburg.de>sabine.fischer@uni.wuerzburg.de</a><br><br></p>\n",
    "\n",
    "<h1><p style='text-align: center'> Introduction to Python </p></h1>"
   ]
  },
  {
   "cell_type": "markdown",
   "metadata": {},
   "source": [
    "## Datatypes\n",
    "\n",
    "In the following lecture and execises, you will get to know different datatypes that are commonly used in Python. <br> You can always look up the datatype of an object or a variable with the command `type(object)`."
   ]
  },
  {
   "cell_type": "markdown",
   "metadata": {},
   "source": [
    "### 1. The NoneType:\n",
    "\n",
    "In Python the NoneType shows that a variable does not contain a value and it can be created with the command `variable = None`. <br>This can be useful if you want to define a variable but only want to give a value to it later on. <br>The NoneType also provides a possibility to check wether a variable or object contains a value or not.  <br>\n",
    "Furthermore it may be used as a result for unsuccessful search operations.\n",
    "<br>"
   ]
  },
  {
   "cell_type": "code",
   "execution_count": null,
   "metadata": {},
   "outputs": [],
   "source": [
    "var_1=None\n",
    "type(var_1)"
   ]
  },
  {
   "cell_type": "markdown",
   "metadata": {},
   "source": [
    "### 2. Numerical Datatypes:\n",
    "#### 2.1 int - Integers\n",
    "<br>\n",
    "Integers are represented by the datatype int in Python. Integers can be used <br>for mathematical operations or as values for variables. Basically, integers are made of digits from 0 to 9 <br>and can be positive or negative. For mathematical operations integers can be connected with operators like +, -, * or /. <br> The results of this operations can also be assigned to a variable.\n",
    "<br>"
   ]
  },
  {
   "cell_type": "code",
   "execution_count": null,
   "metadata": {},
   "outputs": [],
   "source": [
    "5+7"
   ]
  },
  {
   "cell_type": "code",
   "execution_count": null,
   "metadata": {},
   "outputs": [],
   "source": [
    "a=34\n",
    "b=17\n",
    "c=9\n",
    "print(a,b,c)"
   ]
  },
  {
   "cell_type": "code",
   "execution_count": null,
   "metadata": {},
   "outputs": [],
   "source": [
    "print(a+b/c)"
   ]
  },
  {
   "cell_type": "code",
   "execution_count": null,
   "metadata": {},
   "outputs": [],
   "source": [
    "d=a+b+c\n",
    "e=a-b+c\n",
    "f=a*b/c\n",
    "print(d,e,f)"
   ]
  },
  {
   "cell_type": "markdown",
   "metadata": {},
   "source": [
    "#### 2.2 float - Floating point numbers\n",
    "\n",
    "The datatype float represents non-integer numbers. In Python the whole number part of a floating number<br> is separated from the decimal part by a `.` not by a `,`. The datatype float can be used just as the datatype int. <br> To round a floating number `a` to a certain decimal `n` you can use the command `round(a,n)`. Rounding to the next integer is done by leaving out the second argument, i.e. `round(a)`."
   ]
  },
  {
   "cell_type": "code",
   "execution_count": null,
   "metadata": {},
   "outputs": [],
   "source": [
    "print(type(d))\n",
    "print(type(e))\n",
    "print(type(f))"
   ]
  },
  {
   "cell_type": "code",
   "execution_count": null,
   "metadata": {},
   "outputs": [],
   "source": [
    "print(round(f,3), round(f,1))"
   ]
  },
  {
   "cell_type": "code",
   "execution_count": null,
   "metadata": {},
   "outputs": [],
   "source": [
    "print(round(f,0), round(f))"
   ]
  },
  {
   "cell_type": "code",
   "execution_count": null,
   "metadata": {},
   "outputs": [],
   "source": [
    "g = 10.0\n",
    "h = 10\n",
    "print(type(g))\n",
    "print(type(h))"
   ]
  },
  {
   "cell_type": "markdown",
   "metadata": {},
   "source": [
    "### 3. str - Strings:\n",
    "\n",
    "A string is a sequence of symbols either within `\"` or within `'`. Almost every Python object can be converted to a string <br> with `str(object)`. Strings can be combined with + or multiplied with an integer with *. The length of a string can be <br> determined with `len(str)`. To get certain symbols from a string you have to work with indices. For example <br>from the `string = 'this is a string'`,  `string[0]` returns `'t'`. Indices of strings always start with 0 and end with len(str)-1. <br> By using indices it is also possible to get slices of strings e.g. `string[0:4]` returns `'this'` or `string[5:9]` returns `'is a'`.<br> With a third parameter you can also change the increment e.g. `string[0:13:2]` returns `'ti sasr'`. <br>\n",
    "\n"
   ]
  },
  {
   "cell_type": "code",
   "execution_count": null,
   "metadata": {},
   "outputs": [],
   "source": [
    "string1 = 'Hello'\n",
    "string2 = 'World'\n",
    "print(string1)\n",
    "print(string2)"
   ]
  },
  {
   "cell_type": "code",
   "execution_count": null,
   "metadata": {},
   "outputs": [],
   "source": [
    "string3 = string1 + string2\n",
    "print(string3)"
   ]
  },
  {
   "cell_type": "code",
   "execution_count": null,
   "metadata": {},
   "outputs": [],
   "source": [
    "string4 = string1 + ' ' + string2 + '!'\n",
    "print(string4)"
   ]
  },
  {
   "cell_type": "code",
   "execution_count": null,
   "metadata": {},
   "outputs": [],
   "source": [
    "A = 9\n",
    "string5 = 'The value of A is: ' + str(A)\n",
    "print(string5)"
   ]
  },
  {
   "cell_type": "code",
   "execution_count": null,
   "metadata": {},
   "outputs": [],
   "source": [
    "print(string1[0])"
   ]
  },
  {
   "cell_type": "code",
   "execution_count": null,
   "metadata": {},
   "outputs": [],
   "source": [
    "print(string1[0:4])"
   ]
  },
  {
   "cell_type": "markdown",
   "metadata": {},
   "source": [
    "### 4. list, tuple and set:\n",
    "\n",
    "#### 4.1 list\n",
    "A list in Python is an ordered sequence of items inside of square brackets `[]` separated by commas. Lists can contain items of every type and even inside of one list different types are possible. Also lists in a list, wich can be very helpful as it is always important to think about the datastructure you have or want. <br>\n",
    "Lists are exceptionally versatile and easy to handle datatypes. To access items from a list you can use the `slice operator []` like you did with the strings. Lists are mutable, i.e. values of items can be altered using `[]`. <br>\n",
    "Furthermore, lists can be joined with `+` or multiplied with integers just like strings."
   ]
  },
  {
   "cell_type": "code",
   "execution_count": null,
   "metadata": {},
   "outputs": [],
   "source": [
    "list0 = [1,2,3,4,5,6]\n",
    "print(list0[0])"
   ]
  },
  {
   "cell_type": "code",
   "execution_count": null,
   "metadata": {},
   "outputs": [],
   "source": [
    "list0[0]='A'\n",
    "print(list0)"
   ]
  },
  {
   "cell_type": "code",
   "execution_count": null,
   "metadata": {},
   "outputs": [],
   "source": [
    "list1 = list0+list0\n",
    "print(list1)"
   ]
  },
  {
   "cell_type": "markdown",
   "metadata": {},
   "source": [
    "In order to delete an item from a list `del(item)` may be used. If it is necessary to check, wether a certain item is within a list the `in-operator` can be utilized."
   ]
  },
  {
   "cell_type": "code",
   "execution_count": null,
   "metadata": {},
   "outputs": [],
   "source": [
    "del(list1[0], list1[5])\n",
    "print(list1)"
   ]
  },
  {
   "cell_type": "code",
   "execution_count": null,
   "metadata": {},
   "outputs": [],
   "source": [
    "print('A' in list1)\n",
    "print(2 in list1)"
   ]
  },
  {
   "cell_type": "markdown",
   "metadata": {},
   "source": [
    "There are many other functions that can be used to alter lists, like append, extend, insert etc. You should look them up in the documentation: https://docs.python.org/3/tutorial/datastructures.html <br>"
   ]
  },
  {
   "cell_type": "code",
   "execution_count": null,
   "metadata": {},
   "outputs": [],
   "source": [
    "list0.append([1,2])\n",
    "print(list0)\n",
    "list0.extend([3,4])\n",
    "print(list0)\n",
    "list0.reverse()\n",
    "print(list0)\n",
    "list0.clear()\n",
    "print(list0)"
   ]
  },
  {
   "cell_type": "markdown",
   "metadata": {},
   "source": [
    "#### 4.2 tuple\n",
    "Similar to lists, tuples are an ordered sequence of items inside of round brackets `()` separated by commas. They are handled like lists with one exception. Tuples are immutable, i.e. once created, its content cannot be modified.\n",
    "<br> Therefore, tuples are mostly used to write-protect data and are usually faster than list, because they are not dynamic."
   ]
  },
  {
   "cell_type": "code",
   "execution_count": null,
   "metadata": {},
   "outputs": [],
   "source": [
    "tuple1=(5,2,7,2)\n",
    "print(tuple1)\n",
    "print(tuple1[3])"
   ]
  },
  {
   "cell_type": "markdown",
   "metadata": {},
   "source": [
    "Trying to change an element of a tuple will result in an error message."
   ]
  },
  {
   "cell_type": "code",
   "execution_count": null,
   "metadata": {},
   "outputs": [],
   "source": [
    "tuple1[0] = 1"
   ]
  },
  {
   "cell_type": "markdown",
   "metadata": {},
   "source": [
    "#### 4.3 set:\n",
    "\n",
    "A set is an unordered collection of unique items inside braces `{}`. As set only contains unique items duplicates get eliminated. The slicing operator `[]` does not work with sets, as it is unordered. To make a set of a list or tuple `set(list/tuple)` is used."
   ]
  },
  {
   "cell_type": "code",
   "execution_count": null,
   "metadata": {},
   "outputs": [],
   "source": [
    "set1 = {1,1,1,6,2,3,7,7,7,3,3}\n",
    "print(set1)"
   ]
  },
  {
   "cell_type": "markdown",
   "metadata": {},
   "source": [
    "Trying to select an element of a set will result in an error message."
   ]
  },
  {
   "cell_type": "code",
   "execution_count": null,
   "metadata": {},
   "outputs": [],
   "source": [
    "set1[0]"
   ]
  },
  {
   "cell_type": "markdown",
   "metadata": {},
   "source": [
    "A set is helpful to perform standard set theory operations like e.g. `intersection()`, `difference()` or `union()`. https://docs.python.org/3/tutorial/datastructures.html#sets"
   ]
  },
  {
   "cell_type": "code",
   "execution_count": null,
   "metadata": {},
   "outputs": [],
   "source": [
    "set2 = {1,2,3,4,5}\n",
    "set3 = {4,5,6,7,8}\n",
    "\n",
    "print(set2.intersection(set3))\n",
    "print(set2.difference(set3))\n",
    "print(set2.union(set3))"
   ]
  },
  {
   "cell_type": "markdown",
   "metadata": {},
   "source": [
    "#### 4.4 Interchanging these datatypes\n",
    "Using the functions `list()`, `tuple()` and `set()` one can change the given datatype to a list, tuple or set respectively."
   ]
  },
  {
   "cell_type": "code",
   "execution_count": null,
   "metadata": {},
   "outputs": [],
   "source": [
    "testobject1 = [1,1,1,2,5,5,5]\n",
    "print(tuple(testobject1))\n",
    "print(set(testobject1))"
   ]
  },
  {
   "cell_type": "code",
   "execution_count": null,
   "metadata": {},
   "outputs": [],
   "source": [
    "testobject2 = (1,1,1,2,5,5,5)\n",
    "print(list(testobject2))\n",
    "print(set(testobject2))"
   ]
  },
  {
   "cell_type": "code",
   "execution_count": null,
   "metadata": {},
   "outputs": [],
   "source": [
    "testobject3 = {1,1,1,2,5,5,5}\n",
    "print(list(testobject3))\n",
    "print(tuple(testobject3))"
   ]
  },
  {
   "cell_type": "markdown",
   "metadata": {},
   "source": [
    "### 5. dict - Dictionaries:\n",
    "A dictionary in Python is a collection of key-value pairs where key and value can be of any type and one key can have several values. They are defined by braces `{}` with a key and a value that are seperated by a colon `:` , e.g. `{key1:value1, key2:value2}`. Keys and values can be of various datatypes. However, strings are most commonly used as keys. Dictionaries are optimized for retrieving data, but you have to know the key to retrieve its data `dict[key]=value of the key`."
   ]
  },
  {
   "cell_type": "code",
   "execution_count": null,
   "metadata": {},
   "outputs": [],
   "source": [
    "dict_1={'key':3,\n",
    "        'another_key':[4,7],\n",
    "        1:'x',\n",
    "        (1,2):None}\n",
    "print(dict_1)"
   ]
  },
  {
   "cell_type": "code",
   "execution_count": null,
   "metadata": {},
   "outputs": [],
   "source": [
    "# str as key, int as value\n",
    "print(dict_1['key'])"
   ]
  },
  {
   "cell_type": "code",
   "execution_count": null,
   "metadata": {},
   "outputs": [],
   "source": [
    "# str as key, int as value\n",
    "print(dict_1['another_key'])"
   ]
  },
  {
   "cell_type": "code",
   "execution_count": null,
   "metadata": {},
   "outputs": [],
   "source": [
    "# int as key, str as value\n",
    "print(dict_1[1])"
   ]
  },
  {
   "cell_type": "code",
   "execution_count": null,
   "metadata": {},
   "outputs": [],
   "source": [
    "# tuple as key, tuple as value\n",
    "print(dict_1[(1,2)])"
   ]
  },
  {
   "cell_type": "markdown",
   "metadata": {},
   "source": [
    "New key-value pairs can easily be added by simply defining them like this `dict[NewKey] = NewValue`, regardless of their datatype."
   ]
  },
  {
   "cell_type": "code",
   "execution_count": null,
   "metadata": {},
   "outputs": [],
   "source": [
    "dict_1['new_key'] = 4\n",
    "print(dict_1)"
   ]
  },
  {
   "cell_type": "code",
   "execution_count": null,
   "metadata": {},
   "outputs": [],
   "source": [
    "dict_1[(1,2,3,4,5)] = [5,4,3,2,1]\n",
    "print(dict_1)"
   ]
  },
  {
   "cell_type": "markdown",
   "metadata": {},
   "source": [
    "## Exercises"
   ]
  },
  {
   "cell_type": "markdown",
   "metadata": {},
   "source": [
    "Always check your results with `print(result)`"
   ]
  },
  {
   "cell_type": "markdown",
   "metadata": {},
   "source": [
    "### <p style='color: green'>easy</p>\n",
    "\n",
    "1. Perform various calculations. Add, subtract, divide, multiply, exponentiate. Use integers and floats. <br>"
   ]
  },
  {
   "cell_type": "markdown",
   "metadata": {},
   "source": [
    "2. Assign values to variables and perform calculations using the variables."
   ]
  },
  {
   "cell_type": "markdown",
   "metadata": {},
   "source": [
    "3. Create two strings and assign them to the variables `string1` and `string2`. Print both, separated by a blank space.\n"
   ]
  },
  {
   "cell_type": "markdown",
   "metadata": {},
   "source": [
    "4. Only print the first three symbols of `string1`."
   ]
  },
  {
   "cell_type": "markdown",
   "metadata": {},
   "source": [
    "5. Only print every second symbol of `string2`."
   ]
  },
  {
   "cell_type": "markdown",
   "metadata": {},
   "source": [
    "6. Create the following lists:\n",
    "\n",
    "```python\n",
    "list1 = [1, 'Hello', 3, 'World!', 5]\n",
    "list2 = [3/7, 4/9, 27/64]\n",
    "list3 = [6, 7, 8]\n",
    "```\n"
   ]
  },
  {
   "cell_type": "markdown",
   "metadata": {},
   "source": [
    "7. Print `'Hello World!'` out of `list1` using the `[]`-operator."
   ]
  },
  {
   "cell_type": "markdown",
   "metadata": {},
   "source": [
    "8. Change `'Hello'` to `2` and `'World!'` to `4` in `list1`."
   ]
  },
  {
   "cell_type": "markdown",
   "metadata": {},
   "source": [
    "9. Join `list1` and `list3` and call the result `list4`."
   ]
  },
  {
   "cell_type": "markdown",
   "metadata": {},
   "source": [
    "10. Make a copy of `list4` named `list4_2` using the `[]`-operator."
   ]
  },
  {
   "cell_type": "markdown",
   "metadata": {},
   "source": [
    "11. Delete `8` from `list4_2`."
   ]
  },
  {
   "cell_type": "markdown",
   "metadata": {},
   "source": [
    "12. Test if `27/63` is in `list2`."
   ]
  },
  {
   "cell_type": "markdown",
   "metadata": {},
   "source": [
    "13. Test if `2/5` is in `list2`."
   ]
  },
  {
   "cell_type": "markdown",
   "metadata": {},
   "source": [
    "14. Test if `'Hello'` is in `list1`."
   ]
  },
  {
   "cell_type": "markdown",
   "metadata": {},
   "source": [
    "15. Slice `[3,4,5,6]` out of `list4` and call the new list `list5`."
   ]
  },
  {
   "cell_type": "markdown",
   "metadata": {},
   "source": [
    "16. Multiply `list5` with an integer number and print the length of the result which you should give the name `list6`."
   ]
  },
  {
   "cell_type": "markdown",
   "metadata": {},
   "source": [
    "17. Make a dictionary `dict1` with the keys `'House'`, `'Garden'` and `7` with three values for each key in the form of lists."
   ]
  },
  {
   "cell_type": "markdown",
   "metadata": {},
   "source": [
    "18. Add another key to `dict1` with some values."
   ]
  },
  {
   "cell_type": "markdown",
   "metadata": {},
   "source": [
    "19. Print the values of `dict1` with the key `'Garden'`"
   ]
  },
  {
   "cell_type": "markdown",
   "metadata": {},
   "source": [
    "### <p style='color: orange'>medium</p>\n",
    "20. What are the indices of `3`, `5` and `7` in `list4`? Delete them."
   ]
  },
  {
   "cell_type": "markdown",
   "metadata": {},
   "source": [
    "21. How often does `3` occur in all lists (`list1`, `list2`, `list3`, `list4`, `list4_2`, `list5`, `list6`)?"
   ]
  },
  {
   "cell_type": "markdown",
   "metadata": {},
   "source": [
    "22. Create `list7` and `list7_1` with `[1,2,3]`. Append `[5,6,7]` to `list7` and extend `list7_1` with `[5,6,7]`. Compare `list7` and `list7_1`."
   ]
  },
  {
   "cell_type": "markdown",
   "metadata": {},
   "source": [
    "23. Insert `4` in `list7_1` between `3` and `5`."
   ]
  },
  {
   "cell_type": "markdown",
   "metadata": {},
   "source": [
    "24. Remove the element with index `3` from `list7_1` and assign that element to a variable."
   ]
  },
  {
   "cell_type": "markdown",
   "metadata": {},
   "source": [
    "25. Remove `5` from `list7_1`."
   ]
  },
  {
   "cell_type": "markdown",
   "metadata": {},
   "source": [
    "26. Revert `list7_1` and print it."
   ]
  },
  {
   "cell_type": "markdown",
   "metadata": {},
   "source": [
    "27. Now sort `list7_1` and print it again."
   ]
  },
  {
   "cell_type": "markdown",
   "metadata": {},
   "source": [
    "28. Get the intersection of `list1` and `list7_1` (Hint: Use sets of the lists)."
   ]
  }
 ],
 "metadata": {
  "kernelspec": {
   "display_name": "Python 3",
   "language": "python",
   "name": "python3"
  },
  "language_info": {
   "codemirror_mode": {
    "name": "ipython",
    "version": 3
   },
   "file_extension": ".py",
   "mimetype": "text/x-python",
   "name": "python",
   "nbconvert_exporter": "python",
   "pygments_lexer": "ipython3",
   "version": "3.7.4"
  }
 },
 "nbformat": 4,
 "nbformat_minor": 2
}
