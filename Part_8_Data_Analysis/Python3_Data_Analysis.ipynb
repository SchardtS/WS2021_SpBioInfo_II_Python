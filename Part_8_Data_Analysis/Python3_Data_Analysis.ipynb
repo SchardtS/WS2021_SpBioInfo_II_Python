{
 "cells": [
  {
   "cell_type": "markdown",
   "metadata": {},
   "source": [
    "<p style='text-align: center'><a href=https://www.biozentrum.uni-wuerzburg.de/cctb/research/supramolecular-and-cellular-simulations/>Supramolecular and Cellular Simulations</a> (Prof. Fischer)<br>Center for Computational and Theoretical Biology - CCTB<br>Faculty of Biology, University of Würzburg</p>\n",
    "\n",
    "<p style='text-align: center'><br><br>We are looking forward to your comments and suggestions. Please send them to <a href=sabine.fischer@uni.wuerzburg.de>sabine.fischer@uni.wuerzburg.de</a><br><br></p>\n",
    "\n",
    "<h1><p style='text-align: center'> Introduction to Python </p></h1>"
   ]
  },
  {
   "cell_type": "markdown",
   "metadata": {},
   "source": [
    "## Data analysis\n",
    "There are two important modules related to data analysis in Python - `Pandas` and `NumPy` - each with a huge amount of functionality.\n",
    "### 1. NumPy\n",
    "NumPy is a package that expands pythons objects with the array class and advanced mathematics. Arrays are multidimensional data storage objects. <br>\n",
    "Advantages:</p>\n",
    "    \n",
    "- fast calculations\n",
    "- multidimensionality\n",
    "\n",
    "#### 1.1 Basic commands and Array creation\n",
    "You can either create an array from a list or with one of NumPy's generators.\n",
    "\n",
    "Creating arrays from lists:"
   ]
  },
  {
   "cell_type": "code",
   "execution_count": null,
   "metadata": {},
   "outputs": [],
   "source": [
    "import numpy as np"
   ]
  },
  {
   "cell_type": "code",
   "execution_count": null,
   "metadata": {},
   "outputs": [],
   "source": [
    "#1D-arrays\n",
    "A=np.array([1,2])\n",
    "print(A)"
   ]
  },
  {
   "cell_type": "code",
   "execution_count": null,
   "metadata": {},
   "outputs": [],
   "source": [
    "#2D-arrays\n",
    "B=np.array([[1,2],[3,4],[5,6]])\n",
    "print(B)"
   ]
  },
  {
   "cell_type": "markdown",
   "metadata": {},
   "source": [
    "Typically, when creating arrays from a list of lists, the sublists should all have the same length, else your created array will not have the full functionality."
   ]
  },
  {
   "cell_type": "code",
   "execution_count": null,
   "metadata": {},
   "outputs": [],
   "source": [
    "B2=np.array([[1,2],[3,4],[5,6,0]])\n",
    "print(B2)"
   ]
  },
  {
   "cell_type": "markdown",
   "metadata": {},
   "source": [
    "NumPy offers three commands to readout the properties of an existing array:\n",
    "- `.ndim` gives the number of dimensions as output\n",
    "- `.shape` gives a tuple of the dimensions as output\n",
    "- `.size` gives the number of elements as output"
   ]
  },
  {
   "cell_type": "code",
   "execution_count": null,
   "metadata": {},
   "outputs": [],
   "source": [
    "print(B.ndim)\n",
    "print(B.shape)\n",
    "print(B.size)"
   ]
  },
  {
   "cell_type": "markdown",
   "metadata": {},
   "source": [
    "Special functions for array creation are e.g., `np.zeros()`, `np.ones()` and `np.empty()` creating either arrays with only zeros, ones or uninitialized values. As Input you use the needed shape of the array you want to create written as `[n,m,...]` or `(n,m,...)`"
   ]
  },
  {
   "cell_type": "code",
   "execution_count": null,
   "metadata": {},
   "outputs": [],
   "source": [
    "A = np.zeros([8,5])\n",
    "print(A,'\\n')\n",
    "\n",
    "B = np.ones([3,9])\n",
    "print(B,'\\n')\n",
    "\n",
    "C = np.empty([2,2])\n",
    "print(C,'\\n')"
   ]
  },
  {
   "cell_type": "markdown",
   "metadata": {},
   "source": [
    "There is also the possibility to create arrays of random numbers using various built-in functions in `np.random`, e.g.\n",
    "\n",
    "- `np.random.random(shape)` creates an array of given shape with `uniformly` distributed numbers between `0` and `1`\n",
    "- `np.random.uniform(a,b,shape)` creates an array of given shape with `uniformly` distributed numbers between `a` and `b`\n",
    "- `np.random.gauss(a,b,shape)` creates an array of given shape with `normally` distributed numbers with mean `a` and standard deviation `b`"
   ]
  },
  {
   "cell_type": "code",
   "execution_count": null,
   "metadata": {},
   "outputs": [],
   "source": [
    "A1 = np.random.random(1000)\n",
    "A2 = np.random.uniform(0,4,1000)\n",
    "A3 = np.random.normal(0,4,1000)"
   ]
  },
  {
   "cell_type": "code",
   "execution_count": null,
   "metadata": {},
   "outputs": [],
   "source": [
    "import matplotlib.pyplot as plt\n",
    "plt.hist(A1, 20, edgecolor='k');"
   ]
  },
  {
   "cell_type": "code",
   "execution_count": null,
   "metadata": {},
   "outputs": [],
   "source": [
    "plt.hist(A2, 30, edgecolor='k');"
   ]
  },
  {
   "cell_type": "code",
   "execution_count": null,
   "metadata": {},
   "outputs": [],
   "source": [
    "plt.hist(A3, 50, edgecolor='k');"
   ]
  },
  {
   "cell_type": "markdown",
   "metadata": {},
   "source": [
    "#### 1.2 Indexing and array manipulation\n",
    "#### Single elements\n",
    "Choosing an element inside an array or sub-arrays of a larger one is quite similar to lists. The position of a single element is called by `[n,m,...]` where the position in each dimension is specified by `n`, `m` and so on."
   ]
  },
  {
   "cell_type": "code",
   "execution_count": null,
   "metadata": {},
   "outputs": [],
   "source": [
    "A = np.random.random([3,3])\n",
    "\n",
    "print(A,'\\n')\n",
    "print(A[1,2])"
   ]
  },
  {
   "cell_type": "code",
   "execution_count": null,
   "metadata": {},
   "outputs": [],
   "source": [
    "A[1,1] = 10\n",
    "print(A)"
   ]
  },
  {
   "cell_type": "markdown",
   "metadata": {},
   "source": [
    "#### Whole sub-arrays\n",
    "It is also possible to choose a sub-array from an existing array using `:` instead of a single position in a dimension."
   ]
  },
  {
   "cell_type": "code",
   "execution_count": null,
   "metadata": {},
   "outputs": [],
   "source": [
    "print(A[:,2])"
   ]
  },
  {
   "cell_type": "code",
   "execution_count": null,
   "metadata": {},
   "outputs": [],
   "source": [
    "A[:,2] = 1\n",
    "print(A)"
   ]
  },
  {
   "cell_type": "markdown",
   "metadata": {},
   "source": [
    "#### Boolean selection\n",
    "Arrays are also capable of being transformed into a boolean array e.g., `A < 1`. Using this it is possible to only look for values that satisfy a given condition. "
   ]
  },
  {
   "cell_type": "code",
   "execution_count": null,
   "metadata": {},
   "outputs": [],
   "source": [
    "print(A<1)\n",
    "print(A[A<1])"
   ]
  },
  {
   "cell_type": "code",
   "execution_count": null,
   "metadata": {},
   "outputs": [],
   "source": [
    "A[A<1] = 0\n",
    "print(A)"
   ]
  },
  {
   "cell_type": "markdown",
   "metadata": {},
   "source": [
    "### 2. Pandas\n",
    "Pandas is a Python package. It is based on NumPy and is used to work with tables.\n",
    "\n",
    "#### 2.1 DataFrame creation\n",
    "You already heard how to load existing files with pandas, now we will create a new one. You can create a DataFrame (DF) with a dictionary, a list or an array. The basic command is\n",
    "````python    \n",
    "pandas.DataFrame()\n",
    "````\n",
    "This will create an empty object, which can be filled with data afterwards.\n",
    "You can also fill the object directly during creation, there are several ways to use arguments:</p>"
   ]
  },
  {
   "cell_type": "code",
   "execution_count": null,
   "metadata": {},
   "outputs": [],
   "source": [
    "import pandas as pd\n",
    "df = pd.DataFrame({'column1':[1,2],'column2':[3,4]},\n",
    "                  index=['row1','row2'])\n",
    "df"
   ]
  },
  {
   "cell_type": "markdown",
   "metadata": {},
   "source": [
    "#### 2.2 Indexing or how to pick data in a DataFrame\n",
    "We can pick whole columns by using their actual names like this `df['column_name']`. We can further use the resulting column mostly in the same way we would use a NumPy array."
   ]
  },
  {
   "cell_type": "code",
   "execution_count": null,
   "metadata": {},
   "outputs": [],
   "source": [
    "df = pd.DataFrame({'c1':[1,2,3],'c2':[4,5,6],'c3':[7,8,9]})\n",
    "A = df['c1']\n",
    "B = df['c2']\n",
    "\n",
    "print(A,'\\n')\n",
    "print(B,'\\n')"
   ]
  },
  {
   "cell_type": "markdown",
   "metadata": {},
   "source": [
    "To pick data row and column specific you can either use the `.loc()` or `.iloc()` method.\n",
    "- `.loc[]` picks elements by row and column name\n",
    "- `.iloc[]` picks elements by row and column index\n",
    "\n",
    "As with arrays you can also manipulate any element in this way."
   ]
  },
  {
   "cell_type": "code",
   "execution_count": null,
   "metadata": {},
   "outputs": [],
   "source": [
    "print('\\n',df.loc[0,'c1'])\n",
    "print('\\n',df.iloc[0,0])\n",
    "df.iloc[0,0]=100\n",
    "df"
   ]
  },
  {
   "cell_type": "markdown",
   "metadata": {},
   "source": [
    "One can easily convert a dataframe into an array using `.to_numpy()`. This functionality can save a lot of time when not knowing the exact syntax of every dataframe related function. Doing this will drop rows and column names and only leave you with their respective content."
   ]
  },
  {
   "cell_type": "code",
   "execution_count": null,
   "metadata": {},
   "outputs": [],
   "source": [
    "A = df.to_numpy()\n",
    "\n",
    "print(df, '\\n')\n",
    "print(A)"
   ]
  },
  {
   "cell_type": "markdown",
   "metadata": {},
   "source": [
    "### 3. Array maths\n",
    "#### 3.1 Basic calculations\n",
    "<p style='text-align: justify;'>Maths with arrays works element wise. In contrast to lists, no loop is needed to run operations on all elements. If the dimensions of the arrays are not identical an error will occur. The way it works resembles any other standard maths operation\n",
    "\n",
    "- addition/substraction `+`, `-`\n",
    "- multiplication/division `*`, `/`\n",
    "- power calculation `**`\n",
    "\n",
    "You can use these operations on `two arrays with equal shape`, `one array and any number` and `two arrays with N and N-1 dimensions and equal shape in their (reduced) dimension`."
   ]
  },
  {
   "cell_type": "code",
   "execution_count": null,
   "metadata": {},
   "outputs": [],
   "source": [
    "A = np.array([[1,2],[4,5],[7,8]])\n",
    "print(A,'\\n')\n",
    "print(A+10*A,'\\n')\n",
    "print(A**2)"
   ]
  },
  {
   "cell_type": "code",
   "execution_count": null,
   "metadata": {},
   "outputs": [],
   "source": [
    "B = np.array([1,2])\n",
    "print(B,'\\n')\n",
    "print(A*B)"
   ]
  },
  {
   "cell_type": "markdown",
   "metadata": {},
   "source": [
    "The mathematical analogy to NumPy arrays are vectors (1D arrays), matrices (2D arrays) and tensors (N-D arrays). Consequently, relevant mathematical operations like the inner product (scalar product / dot product) or cross product are also included by `np.dot` and `np.cross`.\n",
    "##### Reminder:\n",
    "$$\\begin{pmatrix}a_1\\\\a_2\\\\a_3\\end{pmatrix} \\cdot \\begin{pmatrix}b_1\\\\b_2\\\\b_3\\end{pmatrix} = a_1b_1 + a_2b_2 + a_3b_3, \\qquad \\begin{pmatrix}a_1\\\\a_2\\\\a_3\\end{pmatrix} \\times \\begin{pmatrix}b_1\\\\b_2\\\\b_3\\end{pmatrix} = \\begin{pmatrix}a_2b_3-a_3b_2\\\\a_3b_1-a_1b_3\\\\a_1b_2-a_2b_1\\end{pmatrix}$$"
   ]
  },
  {
   "cell_type": "code",
   "execution_count": null,
   "metadata": {},
   "outputs": [],
   "source": [
    "A = np.array([1,0,0])\n",
    "B = np.array([0,1,0])\n",
    "\n",
    "print(np.cross(A,B))\n",
    "print(np.dot(A,B))"
   ]
  },
  {
   "cell_type": "markdown",
   "metadata": {},
   "source": [
    "#### 3.2 Mathematical functions\n",
    "Besides standard calculations NumPy offers several more complex mathematical functions. The most commonly known are:\n",
    "- `np.sin()`, `np.cos()`, `np.tan()` trigonometric functions. There is also `np.pi` = $\\pi$ to go with it.\n",
    "- `np.arcsin()`, `np.arccos()`, `np.arctan()` inverse trigonometric functions.\n",
    "- `np.exp()` exponential function\n",
    "- `np.log()` natural logarithm\n",
    "\n",
    "Using `np.linspace(start, end, number)` is helpful when trying to visualize these functions. It returns an array that starts with `start` and successively increasing values such that it ends with `end` with a length of `number`."
   ]
  },
  {
   "cell_type": "code",
   "execution_count": null,
   "metadata": {},
   "outputs": [],
   "source": [
    "x = np.linspace(0, 10, 11)\n",
    "print(x)"
   ]
  },
  {
   "cell_type": "code",
   "execution_count": null,
   "metadata": {},
   "outputs": [],
   "source": [
    "x = np.linspace(0, 3, 1000)\n",
    "f = x**3 + 10*x - 30\n",
    "g = np.exp(x)\n",
    "\n",
    "plt.plot(x,f)\n",
    "plt.plot(x,g)"
   ]
  },
  {
   "cell_type": "markdown",
   "metadata": {},
   "source": [
    "#### 3.3 Statistics\n",
    "In any applied science it is necessary to know statistics to some extent. NumPy offers some basic statistical tools to help you in your studies:\n",
    "\n",
    "- `np.mean()` mean value\n",
    "- `np.std()` standard deviation\n",
    "- `np.var()` variance\n",
    "\n",
    "There are two ways to calculate these values from an array `A`. Either `A.mean()` or `np.mean(A)`."
   ]
  },
  {
   "cell_type": "code",
   "execution_count": null,
   "metadata": {},
   "outputs": [],
   "source": [
    "A = np.random.normal(0,1,100)\n",
    "\n",
    "print(A.mean(), np.mean(A))\n",
    "print(A.std(), np.std(A))"
   ]
  },
  {
   "cell_type": "markdown",
   "metadata": {},
   "source": [
    "Most science related data is stored in `.csv` files. Getting such a file into a Jupyter Notebook is done via `pd.read_csv()` using the path of the file as input. The following example demonstrate how a complete data analysis might look like step by step.\n",
    "\n",
    "### 4. Example of a full data analysis\n",
    "In `data.csv` you find monthly incomes of men and women of various ages (not real data). For your studies you need to compare the salary of men between 30 and 45 to that of women of the same age. The plan to analyze this data looks like this.\n",
    "\n",
    "1. Use `pd.read_csv()` on the file `data.csv`\n",
    "2. Transform `birth date` into `age`\n",
    "3. Use boolean selection again to get the right `age`\n",
    "4. Use boolean selection to separate your data into `men`and `women`\n",
    "5. Visualize the remaining data using `plt.hist()`\n",
    "6. Calculate the respective mean values and standard deviations using `np.mean()` and `np.std()`"
   ]
  },
  {
   "cell_type": "code",
   "execution_count": null,
   "metadata": {},
   "outputs": [],
   "source": [
    "Data = pd.read_csv('data.csv')\n",
    "Data.head()"
   ]
  },
  {
   "cell_type": "code",
   "execution_count": null,
   "metadata": {},
   "outputs": [],
   "source": [
    "Data['age'] = 2020 - Data['birth date']\n",
    "Data.head()"
   ]
  },
  {
   "cell_type": "code",
   "execution_count": null,
   "metadata": {},
   "outputs": [],
   "source": [
    "age_filtered_data = Data[(Data['age']>=30) & (Data['age']<=45)]\n",
    "age_filtered_data.head()"
   ]
  },
  {
   "cell_type": "code",
   "execution_count": null,
   "metadata": {},
   "outputs": [],
   "source": [
    "men = age_filtered_data[age_filtered_data['gender']=='male']\n",
    "men.head()"
   ]
  },
  {
   "cell_type": "code",
   "execution_count": null,
   "metadata": {},
   "outputs": [],
   "source": [
    "women = age_filtered_data[age_filtered_data['gender']=='female']\n",
    "women.head()"
   ]
  },
  {
   "cell_type": "code",
   "execution_count": null,
   "metadata": {},
   "outputs": [],
   "source": [
    "plt.hist(men['income'], 30, edgecolor='k', color='blue', alpha=0.7);\n",
    "plt.hist(women['income'], 30, edgecolor='k', color='pink', alpha=0.7);\n",
    "plt.legend(['men', 'women'])"
   ]
  },
  {
   "cell_type": "code",
   "execution_count": null,
   "metadata": {},
   "outputs": [],
   "source": [
    "men_mean = men['income'].mean()\n",
    "women_mean = women['income'].mean()\n",
    "\n",
    "men_std = men['income'].std()\n",
    "women_std = women['income'].std()\n",
    "\n",
    "print(men_mean, women_mean)\n",
    "print(men_std, women_std)"
   ]
  },
  {
   "cell_type": "markdown",
   "metadata": {},
   "source": [
    "To find out wether there is a correlation between two properties, one can simply compute the correlation coefficient via `np.corrcoef()`. Remember that the correlation is a value between -1 and 1 (-1 = negative linearly dependent, 0 = no connection, 1 = linearly dependent). Using this on the `age` and `income` of the data gives the following results."
   ]
  },
  {
   "cell_type": "code",
   "execution_count": null,
   "metadata": {},
   "outputs": [],
   "source": [
    "plt.scatter(Data['age'], Data['income'], s=3)\n",
    "print(np.corrcoef(Data['age'], Data['income']))"
   ]
  },
  {
   "cell_type": "markdown",
   "metadata": {},
   "source": [
    "The same can also be done for men and women separately using again boolean selection."
   ]
  },
  {
   "cell_type": "code",
   "execution_count": null,
   "metadata": {},
   "outputs": [],
   "source": [
    "men_data = Data[Data['gender']=='male']\n",
    "plt.scatter(men_data['age'], men_data['income'], s=3, color='blue', alpha = 0.01)\n",
    "print(np.corrcoef(men_data['age'], men_data['income']))\n",
    "\n",
    "\n",
    "women_data = Data[Data['gender']=='female']\n",
    "plt.scatter(women_data['age'], women_data['income'], s=3, color='pink', alpha = 0.01)\n",
    "print(np.corrcoef(women_data['age'], women_data['income']))"
   ]
  },
  {
   "cell_type": "markdown",
   "metadata": {},
   "source": [
    "## References:\n",
    "NumPy\n",
    "- https://numpy.org/doc/1.17/, 26.09.2019, 17:22\n",
    "- https://docs.scipy.org/doc/numpy/user/quickstart.html, 26.09.2019, 17:22\n",
    "- http://cs231n.github.io/python-numpy-tutorial/#python-containers, 26.09.2019, 17:22\n",
    "\n",
    "Pandas\n",
    "- https://pandas.pydata.org/pandas-docs/stable/, 26.09.2019, 18:00\n",
    "- https://www.machinelearningplus.com/python/101-pandas-exercises-python/, 08.10.2019, 10:10\n"
   ]
  },
  {
   "cell_type": "markdown",
   "metadata": {},
   "source": [
    "## Exercises:\n",
    "### <p style='color: green'>easy</p>\n",
    "1. Create an array `arr1` with shape `(1000,)` containing uniformly distributed numbers between 0 and 1."
   ]
  },
  {
   "cell_type": "markdown",
   "metadata": {},
   "source": [
    "2. Set all numbers in `arr1` that are `>0.5` to `1` and all numbers `<=0.5` to `0`."
   ]
  },
  {
   "cell_type": "markdown",
   "metadata": {},
   "source": [
    "3. Calculate the mean value and standard deviation of `arr1`."
   ]
  },
  {
   "cell_type": "markdown",
   "metadata": {},
   "source": [
    "4. Plot the following functions $f(x) = \\sin(x)$, $g(x) = \\cos(x)$, $h(x) = f(x)^2 + g(x)^2$ from $0$ to $2\\pi$."
   ]
  },
  {
   "cell_type": "markdown",
   "metadata": {},
   "source": [
    "5. Create an array `arr2` using the one from `arr1` + some normally distributed random array of equal shape with mean `0` and standard deviation `0.5`."
   ]
  },
  {
   "cell_type": "markdown",
   "metadata": {},
   "source": [
    "6. Use a scatter plot to visualize `arr1` and `arr2`."
   ]
  },
  {
   "cell_type": "markdown",
   "metadata": {},
   "source": [
    "7. Calculate the correlation coefficient of `arr1` and `arr2`."
   ]
  },
  {
   "cell_type": "markdown",
   "metadata": {},
   "source": [
    "### <p style='color: orange'>medium</p>\n",
    "\n",
    "8. The file `stem_cells.csv` contains data for pluripotent stem cells expressing two proteins `A` and `B`. Additionally, the distance to the surface of the tissue is given in `surface_distance`.\n",
    "    - Calculate mean values and standard deviations for `A` and `B`. Also visualize the data in a histogram.\n",
    "    - Separate your data into cells close to the surface and far away from it and repeat the first step.\n",
    "    - Take again the complete data and use scatter plots to find a connection between `surface_distance` and `A` or `B`, but also between `A` and `B`.\n",
    "    - Calculate the correlations and interpret your results"
   ]
  },
  {
   "cell_type": "markdown",
   "metadata": {},
   "source": [
    "9. The central limit theorem is one of the most important results of probability theory. It states that additive overlapping random events will converge towards a normal distribution. We will show how this works visually.\n",
    "    - Create an array `X` with dimensions `[100,10000]` of uniformly distributed random numbers between `-1` and `1`.\n",
    "    - Make a histogram of a single row of `X` (choose any row you like).\n",
    "    - Find a possibility to compute the mean value over only the rows of `X` and store it in an array `S`. Tip: `S` should have shape `(10000,)`.\n",
    "    - Divide `S` by its standard deviation and plot a histogram of the result using the keyword argument `density=True`.\n",
    "    - Use the same figure to additionally plot $\\frac{1}{\\sqrt{2\\pi}} e^{-\\frac{x^2}{2}}$."
   ]
  }
 ],
 "metadata": {
  "kernelspec": {
   "display_name": "Python 3",
   "language": "python",
   "name": "python3"
  },
  "language_info": {
   "codemirror_mode": {
    "name": "ipython",
    "version": 3
   },
   "file_extension": ".py",
   "mimetype": "text/x-python",
   "name": "python",
   "nbconvert_exporter": "python",
   "pygments_lexer": "ipython3",
   "version": "3.7.4"
  }
 },
 "nbformat": 4,
 "nbformat_minor": 2
}
