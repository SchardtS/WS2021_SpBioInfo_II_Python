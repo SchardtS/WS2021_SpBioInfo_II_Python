{
 "cells": [
  {
   "cell_type": "markdown",
   "metadata": {},
   "source": [
    "<p style='text-align: center'><a href=https://www.biozentrum.uni-wuerzburg.de/cctb/research/supramolecular-and-cellular-simulations/>Supramolecular and Cellular Simulations</a> (Prof. Fischer)<br>Center for Computational and Theoretical Biology - CCTB<br>Faculty of Biology, University of Würzburg</p>\n",
    "\n",
    "<p style='text-align: center'><br><br>We are looking forward to your comments and suggestions. Please send them to <a href=sabine.fischer@uni.wuerzburg.de>sabine.fischer@uni.wuerzburg.de</a><br><br></p>\n",
    "\n",
    "<h1><p style='text-align: center'> Introduction to Python </p></h1>"
   ]
  },
  {
   "cell_type": "markdown",
   "metadata": {},
   "source": [
    "## Jupyter Notebooks and Python\n",
    "### 1. What is a Jupyter Notebook?\n",
    "<p style='text-align: justify;'>Jupyter is an interactive environment for writing, computing and testing code. A notebook combines code and its output in a single document. Furthermore, it offers the possibility of in line visualisation to integrate result presentation. \n",
    "It is possible to integrate text fields between code cells to further describe the project or algorithms and for code documentation. Thus, Jupyter offers:</p>\n",
    "\n",
    "- a graphical user interface for programming with python\n",
    "- comfortable usability and a clear structure\n",
    "- optical highlighting of code components like functions or operators\n",
    "- separate executable code cells with shared storage\n",
    "\n",
    "### 2. Basic commands\n",
    "<p style='text-align: justify;'>There are several different styles to execute/run a code cell:</p>\n",
    "\n",
    "- **Shift + Enter** (alternatively press `Run` button): Executes the marked cell and switches focus to the next one.\n",
    "- **Ctrl + Enter**: Executes the marked cell and remains focused on the current cell.\n",
    "- **Alt + Enter**: Executes the marked cell and opens a new cell below."
   ]
  },
  {
   "cell_type": "code",
   "execution_count": null,
   "metadata": {},
   "outputs": [],
   "source": [
    "#Execute this cell!\n",
    "print(\"Hello world!\")"
   ]
  },
  {
   "cell_type": "markdown",
   "metadata": {},
   "source": [
    "<p style='text-align: justify;'><br>It is always advisable to properly document your code and add descriptive text. That makes it easier to read and understand, particularly when you are going through your code a while after you have worked on it.<br><br>\n",
    "There are two options to create a text field, called markdown, you can either select the cell (don’t click in the code area) and change the code marker (fast access bar) to markdown or press:</p> \n",
    "\n",
    "**m**"
   ]
  },
  {
   "cell_type": "code",
   "execution_count": null,
   "metadata": {
    "scrolled": true
   },
   "outputs": [],
   "source": [
    "If you execute this cell there will be an error!\n",
    "Change the cell to markdown first!"
   ]
  },
  {
   "cell_type": "markdown",
   "metadata": {},
   "source": [
    "The text in **markdowns** can be modified using the markdown language.<br>\n",
    "Headings can be created with **#**. You have to set a # at the beginning of a row followed by a space and the text. The level of the heading can be controlled by the number of #."
   ]
  },
  {
   "cell_type": "markdown",
   "metadata": {},
   "source": [
    "# Heading\n",
    "## Heading\n",
    "### Heading\n",
    "#### Heading"
   ]
  },
  {
   "cell_type": "markdown",
   "metadata": {},
   "source": [
    "You can use: **< br >** (without the spaces) to create a line break. To create an indention you can use either two time the enter key or two times **< br >**. <br>Line breaks only with the enter key do not work reliable."
   ]
  },
  {
   "cell_type": "markdown",
   "metadata": {},
   "source": [
    "line<br>break\n",
    "\n",
    "paragraph 1<br><br>paragraph 2"
   ]
  },
  {
   "cell_type": "markdown",
   "metadata": {},
   "source": [
    "You can get different text properties by adding a number of * or _ in front of and after the text part:\n",
    "- *cursive* * or _\n",
    "- **bold** ** or __ \n",
    "- ***both*** *** or ___\n",
    "\n",
    "With ~~ you can ~~cross out~~ text."
   ]
  },
  {
   "cell_type": "markdown",
   "metadata": {},
   "source": [
    "*I'm cursive!*<br>**I'm bold!**<br>***I'm cursive and bold!***<br>~~I'm crossed out!~~"
   ]
  },
  {
   "cell_type": "markdown",
   "metadata": {},
   "source": [
    "To make bigger adjustments to the text like colour, font or to justify the text use:"
   ]
  },
  {
   "cell_type": "markdown",
   "metadata": {},
   "source": [
    "<p style='color: red'>red</p>\n",
    "<p style='color: yellow'>yellow</p>\n",
    "<p style='color: green'>green</p>\n",
    "\n",
    "<p style='text-align: right;'>right-adjusted<br>right-adjusted</p>\n",
    "\n",
    "<p style='text-align: center;'>centered<br>centered,centered<br>centered</p>\n",
    "\n",
    "<p style='text-align: justify;'>justified, justified, justified, justified, justified, justified, justified, justified, justified, justified, justified, justified, justified, justified, justified, justified, justified, justified, justified, justified, justified, justified, justified, justified, justified</p>"
   ]
  },
  {
   "cell_type": "markdown",
   "metadata": {},
   "source": [
    "<p style='text-align: justify;'>The control bar at the top contains several tabs to interact with the notebook, save and load files, interrupt the running processes, clear output and so on. For most commands fast keys can be used, for further information to fast keys use the small keyboard sign in the fast access bar.</p>"
   ]
  },
  {
   "cell_type": "markdown",
   "metadata": {},
   "source": [
    "### 3. Python basic syntax\n",
    "\n",
    "<p style='text-align: justify;'>The following script is just a small example for Pythons syntax and the power of Jupyters optical highlighting.<br>The green parts are built-in Python identifiers. An identifier in general is a name for a variable, function, class or module. You can generate your own identifiers. Numbers are marked in green as well. Operators are highlighted in purple and text (strings) in red.</p>\n",
    "\n",
    "<br>To add comments to a piece of code you should use: `#`"
   ]
  },
  {
   "cell_type": "code",
   "execution_count": null,
   "metadata": {},
   "outputs": [],
   "source": [
    "#pls execute this script\n",
    "import random\n",
    "\n",
    "print(\"Welcome to guess the number\\n===========================\")\n",
    "print(\"\\nI'm thinking of a number, you have to guess what it is.\\n\")\n",
    "\n",
    "num = random.randrange(50)\n",
    "guess = \"\"\n",
    "\n",
    "while guess != num:\n",
    "    guess = int(input(\"Take a guess: \"))\n",
    "    if guess < num:\n",
    "        print(\"Guess higher next time\\n\")\n",
    "    elif guess > num:\n",
    "        print(\"Guess lower next time\\n\")\n",
    "print(\"!!***CONGRATULATIONS***!!\")"
   ]
  },
  {
   "cell_type": "markdown",
   "metadata": {},
   "source": [
    "### 4. Quotation in Python\n",
    "\n",
    "<p style='text-align: justify;'>There are three methods to mark text in Python, single ('), double (\") and triple (''' or \"\"\") quotes. Single and double quotes can be used synonym and mark only in line the text between the quotes as text/string. <br>With triple quotes you can mark several lines as a text/string block. Multiline quotes can be used for multiline comments, as the interpreter will ignore them if further code lines follow.</p>"
   ]
  },
  {
   "cell_type": "code",
   "execution_count": null,
   "metadata": {},
   "outputs": [],
   "source": [
    "'This is a string!'\n",
    "\n",
    "\"This is a string!\"\n",
    "\n",
    "'''This is\n",
    "also a\n",
    "strin!'''\n",
    "\n",
    "\"\"\"This is\n",
    "also a\n",
    "string!\"\"\""
   ]
  },
  {
   "cell_type": "markdown",
   "metadata": {},
   "source": [
    "### 5. Operators\n",
    "\n",
    "As you can see in the two code cells above, operators in Python are quite similar to mathematical operators:\n",
    "- with `=` you can define the content of a variable\n",
    "- `==` compares if two values are the same\n",
    "- `!=` compares if two values are not the same\n",
    "- `<`, `>` compare which value is bigger or smaller\n",
    "- `+`, `-`, `*` and `/` have the same function as in mathematics"
   ]
  },
  {
   "cell_type": "code",
   "execution_count": null,
   "metadata": {},
   "outputs": [],
   "source": [
    "a = 10\n",
    "b = 5\n",
    "a, b"
   ]
  },
  {
   "cell_type": "code",
   "execution_count": null,
   "metadata": {},
   "outputs": [],
   "source": [
    "a == b"
   ]
  },
  {
   "cell_type": "code",
   "execution_count": null,
   "metadata": {},
   "outputs": [],
   "source": [
    "a != b"
   ]
  },
  {
   "cell_type": "code",
   "execution_count": null,
   "metadata": {},
   "outputs": [],
   "source": [
    "a < b, a > b"
   ]
  },
  {
   "cell_type": "code",
   "execution_count": null,
   "metadata": {},
   "outputs": [],
   "source": [
    "a+b"
   ]
  },
  {
   "cell_type": "markdown",
   "metadata": {},
   "source": [
    "### 6. Identifiers\n",
    "As mentioned above you can create your own identifiers to use in your code. Therefore, some rules must be followed:\n",
    "- an identifier always starts with a small or capital letter or an _\n",
    "- Python does not accept punctuation characters like @, $ or & within identifiers\n",
    "\n",
    "The most important law when working with identifiers is that Python is a case sensitive programming language. Thus, `World` and `world` are two different identifiers.\n",
    "<br>With the tabulator key (Tab) an identifier can be completed. Just type in the first letters and hit Tab."
   ]
  },
  {
   "cell_type": "code",
   "execution_count": null,
   "metadata": {},
   "outputs": [],
   "source": [
    "World = \"Hello\"\n",
    "world = \"world!\"\n",
    "print(World, world)"
   ]
  },
  {
   "cell_type": "markdown",
   "metadata": {},
   "source": [
    "Identifiers already occupied by built-in functions, modules or classes can not be used as self defined identifiers.\n",
    "\n",
    "### 7. Variables\n",
    "\n",
    "<p style='text-align: justify;'>A variable is an identifier which can stand for a text, value or complex data. As seen above, you can define them yourself and save what ever is needed in your code. The content of a variable once assigned can be used in different code cells throughout a Jupyter Notebook. If once assigned you can call your variables in every cell. This should be remembered when assigning new content to a variable in following cells, cells depending on the old content will no longer work properly.</p>"
   ]
  },
  {
   "cell_type": "code",
   "execution_count": null,
   "metadata": {},
   "outputs": [],
   "source": [
    "#let's print the variables World and world again\n",
    "print(World, world)\n",
    "#let's assign something new\n",
    "variable = \"I can be called everywhere!\"\n",
    "World = \"No more\""
   ]
  },
  {
   "cell_type": "code",
   "execution_count": null,
   "metadata": {},
   "outputs": [],
   "source": [
    "#let's call the variables again\n",
    "print(variable)\n",
    "print(World, world)"
   ]
  },
  {
   "cell_type": "markdown",
   "metadata": {},
   "source": [
    "### 8. Code structure\n",
    "\n",
    "<p style='text-align: justify;'>In Python, indentation is of big importance. Many built-in functions depend on correct indentation to identify their content. The following code variants will bring different results, due to their different indentation</p>"
   ]
  },
  {
   "cell_type": "code",
   "execution_count": null,
   "metadata": {},
   "outputs": [],
   "source": [
    "print(\"V1\")\n",
    "for x in range(3):\n",
    "    x\n",
    "    print(x)\n",
    "\n",
    "print(\"V2\")\n",
    "for x in range(3):\n",
    "    x\n",
    "print(x)"
   ]
  },
  {
   "cell_type": "markdown",
   "metadata": {},
   "source": [
    "In the second variant the `print(x)` command is not integrated into `for`\n",
    "\n",
    "### 9. Multi-line statements\n",
    "\n",
    "<p style='text-align: justify;'>For better readability of your code it can be useful to write a statement over multiple lines. In Python this can easily be achieved. At every comma or semicolon you can just jump into the next line. In most cases Jupyter will automatically notice the multi-line statement and make automatic indentation.</p>"
   ]
  },
  {
   "cell_type": "code",
   "execution_count": null,
   "metadata": {},
   "outputs": [],
   "source": [
    "days_single_line = ['Monday', 'Tuesday', 'Wednesday', 'Thursday', 'Friday', 'Saturday', 'Sunday']\n",
    "days_multi_line = ['Monday', 'Tuesday', 'Wednesday', \n",
    "                   'Thursday', 'Friday', 'Saturday', 'Sunday']\n",
    "print(days_single_line)\n",
    "print(days_multi_line)"
   ]
  },
  {
   "cell_type": "markdown",
   "metadata": {},
   "source": [
    "If your statement does not contain commas or semicolons you can insert a backslash (**\\**) to mark ongoing code. In this case Jupyter will not make automatic indents."
   ]
  },
  {
   "cell_type": "code",
   "execution_count": null,
   "metadata": {},
   "outputs": [],
   "source": [
    "result_single_line = 1+2+3\n",
    "result_multi_line = 1 + \\\n",
    "                    2 + \\\n",
    "                    3\n",
    "print(result_single_line)\n",
    "print(result_multi_line)"
   ]
  },
  {
   "cell_type": "markdown",
   "metadata": {},
   "source": [
    "## References:\n",
    "- https://docs.python.org/3.7/, 18.09.2019, 14:11\n",
    "- https://www.tutorialspoint.com/python/python_basic_syntax.htm, 18.09.2019, 14:11\n",
    "- https://jupyter-notebook.readthedocs.io/en/stable/, 18.09.2019, 14:11\n",
    "- https://github.com/adam-p/markdown-here/wiki/Markdown-Cheatsheet, 18.09.2019, 14:11\n"
   ]
  },
  {
   "cell_type": "markdown",
   "metadata": {},
   "source": [
    "## Exercises\n",
    "### <p style='color: green'>easy</p>\n",
    "\n",
    "1. Open Jupyter Notebooks and open a new notebook."
   ]
  },
  {
   "cell_type": "markdown",
   "metadata": {},
   "source": [
    "2. Create a markdown cell and write a short introduction to this course (use several commands presented above to highlight important parts)."
   ]
  },
  {
   "cell_type": "markdown",
   "metadata": {},
   "source": [
    "3. Use this notebook to solve the following tasks:\n",
    "    - Save the numbers 2,5,7,8 in a variable each\n",
    "    - Multiply all variables with 2\n",
    "    - Add 2 to 5 and save the result in a variable\n",
    "    - Test if the result is equal to 7\n",
    "    - Test if 8 is smaller than 5\n",
    "    - Test if 2 is not equal to 7"
   ]
  },
  {
   "cell_type": "markdown",
   "metadata": {},
   "source": [
    "### <p style='color: orange'>medium</p>\n",
    "\n",
    "4. Rename your notebook using Jupyter before saving it."
   ]
  }
 ],
 "metadata": {
  "kernelspec": {
   "display_name": "Python 3",
   "language": "python",
   "name": "python3"
  },
  "language_info": {
   "codemirror_mode": {
    "name": "ipython",
    "version": 3
   },
   "file_extension": ".py",
   "mimetype": "text/x-python",
   "name": "python",
   "nbconvert_exporter": "python",
   "pygments_lexer": "ipython3",
   "version": "3.7.4"
  }
 },
 "nbformat": 4,
 "nbformat_minor": 2
}
