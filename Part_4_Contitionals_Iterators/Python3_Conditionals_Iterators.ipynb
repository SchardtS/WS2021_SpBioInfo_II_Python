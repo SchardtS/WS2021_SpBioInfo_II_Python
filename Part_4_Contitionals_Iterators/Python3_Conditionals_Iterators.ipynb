{
 "cells": [
  {
   "cell_type": "markdown",
   "metadata": {},
   "source": [
    "<p style='text-align: center'><a href=https://www.biozentrum.uni-wuerzburg.de/cctb/research/supramolecular-and-cellular-simulations/>Supramolecular and Cellular Simulations</a> (Prof. Fischer)<br>Center for Computational and Theoretical Biology - CCTB<br>Faculty of Biology, University of Würzburg</p>\n",
    "\n",
    "<p style='text-align: center'><br><br>We are looking forward to your comments and suggestions. Please send them to <a href=sabine.fischer@uni.wuerzburg.de>sabine.fischer@uni.wuerzburg.de</a><br><br></p>\n",
    "\n",
    "<h1><p style='text-align: center'> Introduction to Python </p></h1>"
   ]
  },
  {
   "cell_type": "markdown",
   "metadata": {},
   "source": [
    "## Conditional Statements and Iterators \n",
    "\n",
    "The control flow of a program is the execution order of its code and functions. Important building blocks of any programming language are `if` conditions as well as `while` and `for` loops, which considerably influence the control flow. In this lecture we will cover these concepts together with list comprehensions, `break` and `continue` statements and some basic syntax that is helpful for things like boolean expressions and the `range()` function."
   ]
  },
  {
   "cell_type": "markdown",
   "metadata": {},
   "source": [
    "### 1. Boolean expressions\n",
    "With the operator `==` it is possible to test wether two or more numbers/variables/lists/etc. are equal. Similarly with `!=` it is possible to check, wether numbers/variables/.. are not equal. You can also test if a number/variable is smaller/larger than anything else with `<`,`>`, `<=` and `>=`. If you want to check if a certain element is in a list/tuple/set, you can use `in`. These operators can be connected by `and` and `or`, respectively. As a result you will always get a boolean (`True` or `False`) for all of those operators. `if` and `while` statements will always be executed if the expression's result is `True` and not executed if the expression's result is `False`."
   ]
  },
  {
   "cell_type": "code",
   "execution_count": null,
   "metadata": {},
   "outputs": [],
   "source": [
    "example = [1,2,3,4,5,6]"
   ]
  },
  {
   "cell_type": "code",
   "execution_count": null,
   "metadata": {},
   "outputs": [],
   "source": [
    "print(example[0] == 1)"
   ]
  },
  {
   "cell_type": "code",
   "execution_count": null,
   "metadata": {},
   "outputs": [],
   "source": [
    "print(example[0] == 1 and example[0] > 2)"
   ]
  },
  {
   "cell_type": "code",
   "execution_count": null,
   "metadata": {},
   "outputs": [],
   "source": [
    "print(example[0] == 1 or example[0] > 2)"
   ]
  },
  {
   "cell_type": "code",
   "execution_count": null,
   "metadata": {},
   "outputs": [],
   "source": [
    "print(5 in example)"
   ]
  },
  {
   "cell_type": "markdown",
   "metadata": {},
   "source": [
    "### 2. `if` statements\n",
    "Often you want to execute some code only if certain conditions hold or execute different statements depending on several mutually exclusive conditions. In Python the compound statement if is used for this purpose. It uses `if`, `elif` (wich is short for 'else if'), and `else` clauses to make you able to conditionally execute blocks of statements. The basic syntax with optional elif and else clauses is:\n",
    "```python\n",
    "if expression1:\n",
    "    statement1(s)\n",
    "elif expression2:\n",
    "    statement2(s)\n",
    "elif expression3:\n",
    "    statement3(s)\n",
    "else:\n",
    "    statement4(s)```\n",
    "\n",
    "The `else` clause only gets executed if no other condition of an `if` or `elif` statement before was evaluated as `True`, similarly `elif` statements only get tested if no other conditional statement before was evaluated as `True`. You can use as many `elif` statements as you want, whereas only one else clause is possible."
   ]
  },
  {
   "cell_type": "code",
   "execution_count": null,
   "metadata": {},
   "outputs": [],
   "source": [
    "x=3\n",
    "if x == 1:\n",
    "    print('x equals 1')\n",
    "elif x == 2:\n",
    "    print('x equals 2')\n",
    "else:\n",
    "    print('x does not equal 1 or 2')"
   ]
  },
  {
   "cell_type": "markdown",
   "metadata": {},
   "source": [
    "### 3. `while` loops\n",
    "The while statement in python is used for repeated execution of statements controlled by a conditional expression:\n",
    "````python\n",
    "while expression:\n",
    "    statement(s)````\n",
    "\n",
    "It can include an else clause and also break and continue statements, which will be discussed later. <br>\n",
    "If you use an expression that is `True` and can not change from `True` to `False` you get into an infinite loop, wich renders your program stuck in the `while` loop, and therefore this should be avoided."
   ]
  },
  {
   "cell_type": "code",
   "execution_count": null,
   "metadata": {},
   "outputs": [],
   "source": [
    "a = 10\n",
    "while a == 8:\n",
    "    print('Yes')\n",
    "else:\n",
    "    print('No')"
   ]
  },
  {
   "cell_type": "code",
   "execution_count": null,
   "metadata": {},
   "outputs": [],
   "source": [
    "while a < 15:\n",
    "    print('Yes')\n",
    "    a += 1"
   ]
  },
  {
   "cell_type": "markdown",
   "metadata": {},
   "source": [
    "### 4. `for` loops\n",
    "The `for` loop in Python is somewhat similar to the `while` loop, as it is also used for repeated execution of statements. The difference is that the `for` statement is not controlled by a conditional expression, but by an iterable.\n",
    "````python\n",
    "for target in iterable:\n",
    "    statement(s)````\n",
    "    \n",
    "The `in` keyword is part of the syntax of the for statement and is functionally not related to the `in` operator used for membership testing.\n",
    "`target` is an identifier that names the control variable of the loop and the for statement successively rebinds this variable to each item of the iterator, in order. The statements are executed once for every item in iterable, unless the loop ends due to an exception (like division by zero). "
   ]
  },
  {
   "cell_type": "code",
   "execution_count": null,
   "metadata": {},
   "outputs": [],
   "source": [
    "for word in ['word1', 'word2', 'word3', 'word4']:\n",
    "    print(word)"
   ]
  },
  {
   "cell_type": "code",
   "execution_count": null,
   "metadata": {},
   "outputs": [],
   "source": [
    "for i in [1,2,3,4,5]:\n",
    "    if i > 3:\n",
    "        print(i)"
   ]
  },
  {
   "cell_type": "markdown",
   "metadata": {},
   "source": [
    "#### 4.1 The `range()` function\n",
    "A common task while programming is to loop over a sequence of integers. In Python the built-in function `range()` is provided to do so. <br>\n",
    "`range(x)` returns an iterable whose items are consecutive integers from 0 (included) up to x (excluded).  <br>\n",
    "`range(x,y)` returns an iterable whose items are consecutive integers from x (included) up to y (excluded).  <br>\n",
    "`range(x,y,step)` returns an iterable of integers from x (included) up to y (excluded), such that the difference between each  two adjacent items in the list is `step`. If `step` is negative, range counts down from x to y.<br>\n",
    "The simplest way to loop n times over some code is:\n",
    "````python\n",
    "for target in range(n):\n",
    "    statement(s)````\n",
    "To further clarify how `range()` works, one can combine it with `list()` to identify its content. "
   ]
  },
  {
   "cell_type": "code",
   "execution_count": null,
   "metadata": {},
   "outputs": [],
   "source": [
    "print(range(20))                 # print only iterable\n",
    "print(list(range(20)))           # list from 0 to 19\n",
    "print(list(range(5,20)))         # list from 5 to 19\n",
    "print(list(range(5,20,3)))       # list from 5 to 19 in steps of 3"
   ]
  },
  {
   "cell_type": "code",
   "execution_count": null,
   "metadata": {},
   "outputs": [],
   "source": [
    "for i in range(5,0,-1):\n",
    "        print(i)"
   ]
  },
  {
   "cell_type": "markdown",
   "metadata": {},
   "source": [
    "### 5. List comprehension\n",
    "`for` loops are often used to inspect each item in a sequence and build a new list by appending the results of an expression computed on the inspected items. List comprehensions are a more concise and direct way of coding this common idiom. A list comprehension builds a list directly from its expression and the corresponding iterable.\n",
    "````python\n",
    "[expression for target in iterable]````\n",
    "target and iterable are the same as in the `for` loop.\n",
    "It is also possible to make a list comprehension with conditional statements:\n",
    "````python\n",
    "[expression for target in iterable if conditional expression]````\n",
    "And also to iterate over more than one iterable:\n",
    "````python\n",
    "[expression for target1 in iterable1 for target2 in iterable2]````\n",
    "Since a list comprehension is an expression, rather than a block of statements, you can use it wherever you need an expression (e.g., as an actual argument in a function call, in a return statement, or as a subexpression for some other expression). In general list comprehensions are faster and more 'pythonic' compared to for loops."
   ]
  },
  {
   "cell_type": "code",
   "execution_count": null,
   "metadata": {},
   "outputs": [],
   "source": [
    "listcomp1 = [x+5 for x in range(2,11)]\n",
    "print(listcomp1)"
   ]
  },
  {
   "cell_type": "code",
   "execution_count": null,
   "metadata": {},
   "outputs": [],
   "source": [
    "#Gaussian sum formula\n",
    "N = 50\n",
    "Gsf = N*(N+1)/2\n",
    "Gs = sum([x for x in range(1,N+1)])\n",
    "print(Gs, Gsf)"
   ]
  },
  {
   "cell_type": "code",
   "execution_count": null,
   "metadata": {},
   "outputs": [],
   "source": [
    "listcomp3=[x+y for x in range(5,9) for y in range(2) if x<8 ]\n",
    "print(listcomp3)"
   ]
  },
  {
   "cell_type": "markdown",
   "metadata": {},
   "source": [
    "### 6. `break`- and `continue` statements\n",
    "The `break` statement is allowed only inside of a loop body. When `break` executes, the loop terminates. If a loop is nested inside other loops, break terminates only the innermost nested loop. In practical use, a `break` statement is usually inside some clause of an `if` statement in the loop body so that it executes conditionally."
   ]
  },
  {
   "cell_type": "code",
   "execution_count": null,
   "metadata": {},
   "outputs": [],
   "source": [
    "x=0\n",
    "while True:\n",
    "    x +=1 \n",
    "    print(x)\n",
    "    if x >= 3:\n",
    "        break"
   ]
  },
  {
   "cell_type": "markdown",
   "metadata": {},
   "source": [
    "Like `break` statements, `continue` statements are only allowed inside of a loop body. When `continue` is executed the current iteration of the loop terminates and the loop continues with the next iteration."
   ]
  },
  {
   "cell_type": "code",
   "execution_count": null,
   "metadata": {},
   "outputs": [],
   "source": [
    "for i in [1,3,2,4,1,5,2]:\n",
    "    if i>2:\n",
    "        continue\n",
    "    print(i)"
   ]
  },
  {
   "cell_type": "markdown",
   "metadata": {},
   "source": [
    "## Exercises "
   ]
  },
  {
   "cell_type": "code",
   "execution_count": null,
   "metadata": {},
   "outputs": [],
   "source": [
    "a=5 \n",
    "b=6 \n",
    "c=73\n",
    "d=7/18\n",
    "e=6.243\n",
    "f=7\n",
    "g=0.35\n",
    "h=0.39\n",
    "list_7=[[1,3,2],[8,8,12],[6,7,4],[13,11,9],[3,5,6],[4,5,6],[3,2,3],[11,3,8]]"
   ]
  },
  {
   "cell_type": "markdown",
   "metadata": {},
   "source": [
    "### <p style='color: green'>easy</p>\n",
    "\n",
    "1. Test if `a` is `5`, `b` is `6` and `c` is `72` and print `'This is the case'` if it applies and `'This is not the case'` if it doesn't apply."
   ]
  },
  {
   "cell_type": "markdown",
   "metadata": {},
   "source": [
    "2. Test if `b` is between `a` and `e` and test if `d` is between `g` and `h`. If it applies print `'This is the case'` if not print `'This is not the case'`."
   ]
  },
  {
   "cell_type": "markdown",
   "metadata": {},
   "source": [
    "3. If `f` has a larger value than `c` or `e` print `'f has a larger value than c or e'`. Otherwise print `'f has a smaller value than c and e'`. Do the same for `a instead of f`."
   ]
  },
  {
   "cell_type": "markdown",
   "metadata": {},
   "source": [
    "4. Create `j=4` and add `1.5` four times using a for loop."
   ]
  },
  {
   "cell_type": "markdown",
   "metadata": {},
   "source": [
    "5. Make `list_6` with numbers ranging from `1` to `10` using list comprehension."
   ]
  },
  {
   "cell_type": "markdown",
   "metadata": {},
   "source": [
    "6. Only print the odd numbers of the list `list_6` using a `for` loop and the `continue` statement. (Use the remainder operator `%` e.g. for even numbers `'number % 2 == 0'`)"
   ]
  },
  {
   "cell_type": "markdown",
   "metadata": {},
   "source": [
    "### <p style='color: orange'>medium</p>\n",
    "\n",
    "7. Extract the second items of the lists inside of `list_7` only if the number is larger than `3`, once using a for loop (`list_71`) and once using list comprehension (`list_72`)."
   ]
  },
  {
   "cell_type": "markdown",
   "metadata": {},
   "source": [
    "8. Write a program that makes a list (`list_9`) consisting of all numbers between `420` and `1680` (included) that are divisible by `7` and multiple of `3` (again use the remainder operator). The program should also count the number of even and odd numbers and print the resulting quantity of odd and even numbers."
   ]
  },
  {
   "cell_type": "markdown",
   "metadata": {},
   "source": [
    "9. Create a list (`list_10`) containing `50` sublists, each consisting of `3` random numbers from `0` to `10`. (Use the module `random` and its function `uniform()`)"
   ]
  },
  {
   "cell_type": "markdown",
   "metadata": {},
   "source": [
    "10. Write a program that counts how many of the numbers in `list_9` end with `1`, `5`, and `9`, respectively, using `elif`. Print the results."
   ]
  },
  {
   "cell_type": "markdown",
   "metadata": {},
   "source": [
    "### <p style='color: red'>hard</p>\n",
    "\n",
    "11. `list_10` resembles an array of 3D points. Write a program that calculates the mean of the euclidean distance every point in `list_10` has to every OTHER point in `list_10`. (Also use Google for euclidean distance and mean)."
   ]
  }
 ],
 "metadata": {
  "kernelspec": {
   "display_name": "Python 3",
   "language": "python",
   "name": "python3"
  },
  "language_info": {
   "codemirror_mode": {
    "name": "ipython",
    "version": 3
   },
   "file_extension": ".py",
   "mimetype": "text/x-python",
   "name": "python",
   "nbconvert_exporter": "python",
   "pygments_lexer": "ipython3",
   "version": "3.7.4"
  }
 },
 "nbformat": 4,
 "nbformat_minor": 2
}
