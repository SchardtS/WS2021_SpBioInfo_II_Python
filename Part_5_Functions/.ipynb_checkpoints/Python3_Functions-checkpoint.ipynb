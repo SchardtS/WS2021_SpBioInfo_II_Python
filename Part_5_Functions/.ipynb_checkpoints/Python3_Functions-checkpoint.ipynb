{
 "cells": [
  {
   "cell_type": "markdown",
   "metadata": {},
   "source": [
    "<p style='text-align: center'><a href=https://www.biozentrum.uni-wuerzburg.de/cctb/research/supramolecular-and-cellular-simulations/>Supramolecular and Cellular Simulations</a> (Prof. Fischer)<br>Center for Computational and Theoretical Biology - CCTB<br>Faculty of Biology, University of Würzburg</p>\n",
    "\n",
    "<p style='text-align: center'><br><br>We are looking forward to your comments and suggestions. Please send them to <a href=sabine.fischer@uni.wuerzburg.de>sabine.fischer@uni.wuerzburg.de</a><br><br></p>\n",
    "\n",
    "<h1><p style='text-align: center'> Introduction to Python </p></h1>"
   ]
  },
  {
   "cell_type": "markdown",
   "metadata": {},
   "source": [
    "Video with explanations (in German): https://video.uni-wuerzburg.de/iframe/?securecode=71bacf97737d61fb2b6db08e"
   ]
  },
  {
   "cell_type": "markdown",
   "metadata": {},
   "source": [
    "## Functions\n",
    "Functions are an important part of Python. A function is a piece of code that can be executed to solve a task. They can range from only very few lines of code to whole scripts. This executable code is used by an identifier. Many tasks that you might want to solve within your code can be solved using a predefined function. For most general tasks, Python has built-in functions. Only complex and highly specific tasks might require writing your own function.\n",
    "\n",
    "### 1. Built-in Functions\n",
    "Python has a huge amount of built-in functions. They cover the basic needs for programming. To call a function you need to know its identifier. Furthermore, you need to know if the function needs additional components, to work properly. The `print()` function is our first example, it has been used several times by now."
   ]
  },
  {
   "cell_type": "code",
   "execution_count": null,
   "metadata": {},
   "outputs": [],
   "source": [
    "print(\"Hello world!\")"
   ]
  },
  {
   "cell_type": "markdown",
   "metadata": {},
   "source": [
    "Besides the identifier `print()` this function needs an argument. <p style='text-align: justify;'>The argument has to be added between the brackets. This function will print its argument as the scripts output. Strings will be printed directly. In contrast, variables will not be printed themselves, instead their content is printed."
   ]
  },
  {
   "cell_type": "code",
   "execution_count": null,
   "metadata": {},
   "outputs": [],
   "source": [
    "v1 = [1,2]\n",
    "v2 = \"String\"\n",
    "\n",
    "print(v1)\n",
    "print(v2)\n",
    "print(v1, v2)"
   ]
  },
  {
   "cell_type": "markdown",
   "metadata": {},
   "source": [
    "There are ways to integrate the content of variables into strings. You have to use `{}` in your string to mark the place were the variables content should be added. After closing the string with a quote just add:</p> \n",
    "    \n",
    "`.format()` \n",
    "\n",
    "Inside the brackets the variable has to be added."
   ]
  },
  {
   "cell_type": "code",
   "execution_count": null,
   "metadata": {},
   "outputs": [],
   "source": [
    "print(\"I have {} variables, but you can only see {}.\".format(v1[1], v1[0]))"
   ]
  },
  {
   "cell_type": "markdown",
   "metadata": {},
   "source": [
    "<p style='text-align: justify;'> To work properly with Python you have to learn the basic functions or at least know where to find them. The Python documentation is a useful source to find specific built-in functions, if you have an idea of the function's name/identifier. Otherwise an internet search or forums can be very helpful.</p>\n",
    "\n",
    "[Python documentation - functions](https://docs.python.org/3/library/index.html)<br>\n",
    "[Forum - stackoverflow](https://stackoverflow.com/)    \n",
    "\n",
    "In the following, we will present some of the most popular functions in Python."
   ]
  },
  {
   "cell_type": "markdown",
   "metadata": {},
   "source": [
    "#### 1.1 import\n",
    "The `import` function is used to load additional modules for specific tasks. One example is `pandas` which is used for working with tables. "
   ]
  },
  {
   "cell_type": "code",
   "execution_count": null,
   "metadata": {},
   "outputs": [],
   "source": [
    "import pandas\n",
    "pandas.DataFrame({'column1':(1,2,3),\n",
    "                  'column2':['a','b','c']},\n",
    "                  index=['row1','row2','row3'])"
   ]
  },
  {
   "cell_type": "markdown",
   "metadata": {},
   "source": [
    "The `import` function can be combined with additional commands.<br>\n",
    "`as` loads the module into a variable other than the modules name. This is useful, if the name of the module is long."
   ]
  },
  {
   "cell_type": "code",
   "execution_count": null,
   "metadata": {},
   "outputs": [],
   "source": [
    "import pandas as pd\n",
    "pd.DataFrame({'column1':(1,2,3),\n",
    "              'column2':['a','b','c']},\n",
    "              index=['row1','row2','row3'])"
   ]
  },
  {
   "cell_type": "markdown",
   "metadata": {},
   "source": [
    "`from` can be used to load one specific function from a module."
   ]
  },
  {
   "cell_type": "code",
   "execution_count": null,
   "metadata": {},
   "outputs": [],
   "source": [
    "from pandas import DataFrame as DF\n",
    "DF({'column1':(1,2,3),\n",
    "    'column2':['a','b','c']},\n",
    "    index=['row1','row2','row3'])"
   ]
  },
  {
   "cell_type": "markdown",
   "metadata": {},
   "source": [
    "#### 1.2 min() / max()\n",
    "The functions `min()` and `max()` find the smallest / shortest and largest / longest component of their argument, respectively."
   ]
  },
  {
   "cell_type": "code",
   "execution_count": null,
   "metadata": {},
   "outputs": [],
   "source": [
    "list1 = [1,2,3,4,5,6]\n",
    "list2 = ['a','bc','def','ghij']"
   ]
  },
  {
   "cell_type": "code",
   "execution_count": null,
   "metadata": {},
   "outputs": [],
   "source": [
    "min(list1)"
   ]
  },
  {
   "cell_type": "code",
   "execution_count": null,
   "metadata": {},
   "outputs": [],
   "source": [
    "max(list1)"
   ]
  },
  {
   "cell_type": "code",
   "execution_count": null,
   "metadata": {},
   "outputs": [],
   "source": [
    "min(list2)"
   ]
  },
  {
   "cell_type": "code",
   "execution_count": null,
   "metadata": {},
   "outputs": [],
   "source": [
    "max(list2)"
   ]
  },
  {
   "cell_type": "markdown",
   "metadata": {},
   "source": [
    "With decent formatting:"
   ]
  },
  {
   "cell_type": "code",
   "execution_count": null,
   "metadata": {},
   "outputs": [],
   "source": [
    "print('min: {}, max: {}'.format(min(list1),max(list1)))\n",
    "print('min: {}, max: {}'.format(min(list2),max(list2)))"
   ]
  },
  {
   "cell_type": "markdown",
   "metadata": {},
   "source": [
    "#### 1.3 abs()\n",
    "The function `abs()` gives the absolute value of a number. The argument needs to be either an integer or a float value."
   ]
  },
  {
   "cell_type": "code",
   "execution_count": null,
   "metadata": {},
   "outputs": [],
   "source": [
    "print(abs(-3))"
   ]
  },
  {
   "cell_type": "code",
   "execution_count": null,
   "metadata": {},
   "outputs": [],
   "source": [
    "print(5 == -5)\n",
    "print(abs(5) == abs(-5))"
   ]
  },
  {
   "cell_type": "markdown",
   "metadata": {},
   "source": [
    "#### 1.4 range()\n",
    "We have seen the function `range()` in the previous notebook. To remember what it does, please guess what the output will be before you execute the cell. "
   ]
  },
  {
   "cell_type": "code",
   "execution_count": null,
   "metadata": {},
   "outputs": [],
   "source": [
    "print(range(10))"
   ]
  },
  {
   "cell_type": "code",
   "execution_count": null,
   "metadata": {},
   "outputs": [],
   "source": [
    "print(list(range(10)))"
   ]
  },
  {
   "cell_type": "code",
   "execution_count": null,
   "metadata": {},
   "outputs": [],
   "source": [
    "print(list(range(5,10)))"
   ]
  },
  {
   "cell_type": "code",
   "execution_count": null,
   "metadata": {},
   "outputs": [],
   "source": [
    "print(list(range(2,11,2)))"
   ]
  },
  {
   "cell_type": "code",
   "execution_count": null,
   "metadata": {},
   "outputs": [],
   "source": [
    "print(list(range(6,3,-1)))"
   ]
  },
  {
   "cell_type": "markdown",
   "metadata": {},
   "source": [
    "#### 1.5 len()\n",
    "The function `len()` counts the elements of objects such as strings, lists or dictionaries. The argument needs to be an iterable object."
   ]
  },
  {
   "cell_type": "code",
   "execution_count": null,
   "metadata": {},
   "outputs": [],
   "source": [
    "print(len('string'))\n",
    "print(len([1,2,3,4]))\n",
    "print(len({'animal':'snake','number':7}))\n",
    "print(len(range(10)))"
   ]
  },
  {
   "cell_type": "markdown",
   "metadata": {},
   "source": [
    "#### 1.6 sorted()\n",
    "To sort an iterable object, you can use the function `sorted()`. Just add the object to sort as argument. You can add an additional keyword argument to change the sorting style. As example `key=len` for word length."
   ]
  },
  {
   "cell_type": "code",
   "execution_count": null,
   "metadata": {},
   "outputs": [],
   "source": [
    "print(sorted([1,0,9,4,3,8]))"
   ]
  },
  {
   "cell_type": "code",
   "execution_count": null,
   "metadata": {},
   "outputs": [],
   "source": [
    "print(sorted(['bbb','aaaaaaaaa','cccccc']))"
   ]
  },
  {
   "cell_type": "code",
   "execution_count": null,
   "metadata": {},
   "outputs": [],
   "source": [
    "print(sorted(['bbb','aaaaaaaaa','cccccc'],key=len))"
   ]
  },
  {
   "cell_type": "code",
   "execution_count": null,
   "metadata": {},
   "outputs": [],
   "source": [
    "print(sorted([1,0,9,4,3,8],reverse=True))"
   ]
  },
  {
   "cell_type": "markdown",
   "metadata": {},
   "source": [
    "#### 1.7 type()\n",
    "If you need to know the type of something, as example the content of a variable, you can use the `type()` function."
   ]
  },
  {
   "cell_type": "code",
   "execution_count": null,
   "metadata": {},
   "outputs": [],
   "source": [
    "print(type(pandas))\n",
    "print(type(list1))\n",
    "print(type(1))\n",
    "print(type('string'))"
   ]
  },
  {
   "cell_type": "markdown",
   "metadata": {},
   "source": [
    "#### 1.8 input()\n",
    "If you want to get information form a user, use the `input()` function. This function will open a field to input text.<br>The text will be read as string. "
   ]
  },
  {
   "cell_type": "code",
   "execution_count": null,
   "metadata": {},
   "outputs": [],
   "source": [
    "input()"
   ]
  },
  {
   "cell_type": "markdown",
   "metadata": {},
   "source": [
    "You can add a string as argument, to give the users an explanation of what they should input."
   ]
  },
  {
   "cell_type": "code",
   "execution_count": null,
   "metadata": {},
   "outputs": [],
   "source": [
    "input('input a number')"
   ]
  },
  {
   "cell_type": "code",
   "execution_count": null,
   "metadata": {},
   "outputs": [],
   "source": [
    "a = input()\n",
    "print(type(a))"
   ]
  },
  {
   "cell_type": "code",
   "execution_count": null,
   "metadata": {},
   "outputs": [],
   "source": [
    "a = int(input())\n",
    "print(type(a))"
   ]
  },
  {
   "cell_type": "markdown",
   "metadata": {},
   "source": [
    "### 2. User-defined Functions\n",
    "\n",
    "#### 2.1 Basic functions\n",
    "\n",
    "To define your own function, you have to use the `def` command. Following `def`, you provide the  identifier of your function. The line has to end with a colon `:`. The indented part afterwards is only executed when the function is called using the corresponding identifier."
   ]
  },
  {
   "cell_type": "code",
   "execution_count": null,
   "metadata": {},
   "outputs": [],
   "source": [
    "def func1():\n",
    "    print('This is a function')"
   ]
  },
  {
   "cell_type": "code",
   "execution_count": null,
   "metadata": {},
   "outputs": [],
   "source": [
    "func1()"
   ]
  },
  {
   "cell_type": "markdown",
   "metadata": {},
   "source": [
    "#### 2.2 Function arguments\n",
    "There are ways to define functions such that they take a certain argument and do operations with it. This is directly included in the identifier using `function(arg)`. Functions are not limited to a single argument."
   ]
  },
  {
   "cell_type": "code",
   "execution_count": null,
   "metadata": {},
   "outputs": [],
   "source": [
    "def func2(a, b):\n",
    "    print(\"{} times {} is {}\".format(a,b,a*b))"
   ]
  },
  {
   "cell_type": "code",
   "execution_count": null,
   "metadata": {},
   "outputs": [],
   "source": [
    "func2(2, 8)\n",
    "func2(100, 5)\n",
    "func2(0, 235)"
   ]
  },
  {
   "cell_type": "markdown",
   "metadata": {},
   "source": [
    "#### 2.3 Keyword arguments\n",
    "Keyword arguments offer the possibility to provide function arguments with a default value. The argument is replaced by a keyword and a default argument like this `keyword = default`. The function can then be called with or without an argument. In teh latter case, then the default value will be used. "
   ]
  },
  {
   "cell_type": "code",
   "execution_count": null,
   "metadata": {},
   "outputs": [],
   "source": [
    "def func3(c = 1):\n",
    "    print('This is my argument', c)"
   ]
  },
  {
   "cell_type": "code",
   "execution_count": null,
   "metadata": {},
   "outputs": [],
   "source": [
    "func3()\n",
    "func3(c = 10)\n",
    "func3(c = [1,2,3,4,5])"
   ]
  },
  {
   "cell_type": "code",
   "execution_count": null,
   "metadata": {},
   "outputs": [],
   "source": [
    "func3(20)"
   ]
  },
  {
   "cell_type": "code",
   "execution_count": null,
   "metadata": {},
   "outputs": [],
   "source": [
    "def func3a(c = 1, d = 4):\n",
    "    print('This is the difference of my arguments', c-d)"
   ]
  },
  {
   "cell_type": "code",
   "execution_count": null,
   "metadata": {},
   "outputs": [],
   "source": [
    "func3a(5,6)"
   ]
  },
  {
   "cell_type": "code",
   "execution_count": null,
   "metadata": {},
   "outputs": [],
   "source": [
    "func3a(d=5,c=6)"
   ]
  },
  {
   "cell_type": "markdown",
   "metadata": {},
   "source": [
    "#### 2.4 Return\n",
    "Functions can return the results of your code using `return` followed by the variable you want to return. "
   ]
  },
  {
   "cell_type": "code",
   "execution_count": null,
   "metadata": {},
   "outputs": [],
   "source": [
    "def func4(x, y, z):\n",
    "    return (x**2 + y**2 + z**2)**(1/2)\n",
    "\n",
    "def func5(a, b):\n",
    "    binom1 = a**2 + 2*a*b + b**2\n",
    "    binom2 = a**2 - 2*a*b + b**2\n",
    "    binom3 = a**2 - b**2\n",
    "    return binom1, binom2, binom3"
   ]
  },
  {
   "cell_type": "code",
   "execution_count": null,
   "metadata": {},
   "outputs": [],
   "source": [
    "norm = func4(1, 3, 2)\n",
    "print(norm)\n",
    "\n",
    "b1, b2, b3 = func5(5, 3)\n",
    "print(b1, b2, b3)"
   ]
  },
  {
   "cell_type": "markdown",
   "metadata": {},
   "source": [
    "## References:\n",
    "- https://docs.python.org/3/library/index.html"
   ]
  },
  {
   "cell_type": "markdown",
   "metadata": {},
   "source": [
    "## Exercises:\n",
    "Copy and execute the following code in your notebook."
   ]
  },
  {
   "cell_type": "code",
   "execution_count": null,
   "metadata": {},
   "outputs": [],
   "source": [
    "l1=[10, 39, 34, 35, 20, 32,  3,  9, 29, 35,  0, 27, 36, 40, 33,  5, 12, 24, 11, 50,  1,  7, 14, 22,  9]\n",
    "l2=[15,  2, 11, 16, 14,  1, 12, 14,  3,  7,  0,  4,  6, 13, 18, 19,  3,  9, 15, 16,  0, 19, 12, 13, 13]\n",
    "l3=[   4,   5,   1,   6,  3,  -3,  -6,  -1, -5,   -4]\n",
    "l4=['lizard','cat','mouse','bird','butterfly']"
   ]
  },
  {
   "cell_type": "markdown",
   "metadata": {},
   "source": [
    "### <p style='color: green'>easy</p>\n",
    "1. Check all lists for their length, print it and save the length of `l1` in a variable."
   ]
  },
  {
   "cell_type": "markdown",
   "metadata": {},
   "source": [
    "2. Find the minimum and maximum of `l1` and `l3`. Save the min and max of `l1` in variables."
   ]
  },
  {
   "cell_type": "markdown",
   "metadata": {},
   "source": [
    "3. Print the sentence: `\"L1 is x elements long. Its maximum is x and its minimum x.\"` In place of `x`, add the values. Use your saved values."
   ]
  },
  {
   "cell_type": "markdown",
   "metadata": {},
   "source": [
    "4. Sort `l1` and `l4`."
   ]
  },
  {
   "cell_type": "markdown",
   "metadata": {},
   "source": [
    "5. Create a list with the number `10` to `1000` with steps of `10`. "
   ]
  },
  {
   "cell_type": "markdown",
   "metadata": {},
   "source": [
    "### <p style='color: orange'>medium</p>\n",
    "\n",
    "5. Consider `print(\"You\", \"go\")`. Set the additionally available arguments of `print()` such that the output is \"You, go!\". (Hint: Read the documentation for `print()`.) "
   ]
  },
  {
   "cell_type": "markdown",
   "metadata": {},
   "source": [
    "6. Write a short script that asks to input a number, multiplies it by `10` and prints the result. The script should ask for more input till you type in: `stop`."
   ]
  },
  {
   "cell_type": "markdown",
   "metadata": {},
   "source": [
    "7. Write a script, that processes a  list. The script should test if the list is filled with numbers or strings.\n",
    "    - If the list contains both, an error message should be displayed.\n",
    "    - If the list contains only one data type, the appropriate function should be used: \n",
    "        - If it is a list of numbers, it should display the minimum and maximum.\n",
    "        - If it is a list of strings, use a built-in function to sort it by length."
   ]
  },
  {
   "cell_type": "markdown",
   "metadata": {},
   "source": [
    "### <p style='color: red'>hard</p>\n",
    "\n",
    "8. You might have used `range(len(list1))` in one of your loops. There is a better solution for this task. Search for the function `enumerate()`. Familiarize yourself with this function and use it to improve the following code:\n",
    "````Python\n",
    "l = [1,5,8,2,7,8,3,2,8,2,9,7,4]\n",
    "for i in range(len(l)):\n",
    "       print('The element with index {} is {}'.format(i, l[i]))\n",
    "````"
   ]
  },
  {
   "cell_type": "markdown",
   "metadata": {},
   "source": [
    "9. Write a function with variable arguments. The function should perform various calculations:\n",
    "    - It should take two numbers as fixed arguments and any count of additional numbers\n",
    "    - It should sum up all arguments\n",
    "    - A switch should allow to multiply all arguments instead"
   ]
  },
  {
   "cell_type": "code",
   "execution_count": null,
   "metadata": {},
   "outputs": [],
   "source": []
  }
 ],
 "metadata": {
  "kernelspec": {
   "display_name": "Python 3",
   "language": "python",
   "name": "python3"
  },
  "language_info": {
   "codemirror_mode": {
    "name": "ipython",
    "version": 3
   },
   "file_extension": ".py",
   "mimetype": "text/x-python",
   "name": "python",
   "nbconvert_exporter": "python",
   "pygments_lexer": "ipython3",
   "version": "3.7.1"
  }
 },
 "nbformat": 4,
 "nbformat_minor": 2
}
